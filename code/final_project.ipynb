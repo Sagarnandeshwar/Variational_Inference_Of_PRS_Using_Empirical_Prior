{
 "cells": [
  {
   "cell_type": "markdown",
   "id": "7bd6b21f",
   "metadata": {},
   "source": [
    "#### Student Name: Sagar Nandeshwar\n",
    "#### Student ID: 260920948"
   ]
  },
  {
   "cell_type": "markdown",
   "id": "3fc680ab",
   "metadata": {},
   "source": [
    "## Import Statements"
   ]
  },
  {
   "cell_type": "code",
   "execution_count": 1,
   "id": "fa8a6324",
   "metadata": {},
   "outputs": [],
   "source": [
    "import pandas as pd\n",
    "import numpy as np\n",
    "import matplotlib.pyplot as plt\n",
    "import math\n",
    "import magenpy as mgp"
   ]
  },
  {
   "cell_type": "markdown",
   "id": "a6c18e5e",
   "metadata": {},
   "source": [
    "## Loading Data for Chromosomes 21"
   ]
  },
  {
   "cell_type": "code",
   "execution_count": 2,
   "id": "a5edd4ff",
   "metadata": {
    "scrolled": true
   },
   "outputs": [
    {
     "name": "stdout",
     "output_type": "stream",
     "text": [
      "> Reading LD matrix...\n",
      "> Reading annotation file...\n",
      "> Reading summary statistics file...\n"
     ]
    },
    {
     "name": "stderr",
     "output_type": "stream",
     "text": [
      "Harmonizing data: 100%|█████████████████████████| 22/22 [00:00<00:00, 27.07it/s]\n"
     ]
    },
    {
     "name": "stdout",
     "output_type": "stream",
     "text": [
      "> Reading LD matrix...\n",
      "> Reading annotation file...\n",
      "> Reading summary statistics file...\n"
     ]
    },
    {
     "name": "stderr",
     "output_type": "stream",
     "text": [
      "Harmonizing data: 100%|████████████████████████| 22/22 [00:00<00:00, 117.72it/s]\n"
     ]
    },
    {
     "name": "stdout",
     "output_type": "stream",
     "text": [
      "> Reading LD matrix...\n",
      "> Reading annotation file...\n",
      "> Reading summary statistics file...\n"
     ]
    },
    {
     "name": "stderr",
     "output_type": "stream",
     "text": [
      "Harmonizing data: 100%|████████████████████████| 22/22 [00:00<00:00, 108.76it/s]\n"
     ]
    },
    {
     "name": "stdout",
     "output_type": "stream",
     "text": [
      "> Reading LD matrix...\n",
      "> Reading annotation file...\n",
      "> Reading summary statistics file...\n"
     ]
    },
    {
     "name": "stderr",
     "output_type": "stream",
     "text": [
      "Harmonizing data: 100%|████████████████████████| 22/22 [00:00<00:00, 116.64it/s]\n"
     ]
    },
    {
     "name": "stdout",
     "output_type": "stream",
     "text": [
      "> Reading LD matrix...\n",
      "> Reading annotation file...\n",
      "> Reading summary statistics file...\n"
     ]
    },
    {
     "name": "stderr",
     "output_type": "stream",
     "text": [
      "Harmonizing data: 100%|████████████████████████| 22/22 [00:00<00:00, 115.82it/s]\n"
     ]
    },
    {
     "name": "stdout",
     "output_type": "stream",
     "text": [
      "> Reading LD matrix...\n",
      "> Reading annotation file...\n",
      "> Reading summary statistics file...\n"
     ]
    },
    {
     "name": "stderr",
     "output_type": "stream",
     "text": [
      "Harmonizing data: 100%|████████████████████████| 22/22 [00:00<00:00, 126.57it/s]\n"
     ]
    },
    {
     "name": "stdout",
     "output_type": "stream",
     "text": [
      "> Reading LD matrix...\n",
      "> Reading annotation file...\n",
      "> Reading summary statistics file...\n"
     ]
    },
    {
     "name": "stderr",
     "output_type": "stream",
     "text": [
      "Harmonizing data: 100%|████████████████████████| 22/22 [00:00<00:00, 119.22it/s]\n"
     ]
    },
    {
     "name": "stdout",
     "output_type": "stream",
     "text": [
      "> Reading LD matrix...\n",
      "> Reading annotation file...\n",
      "> Reading summary statistics file...\n"
     ]
    },
    {
     "name": "stderr",
     "output_type": "stream",
     "text": [
      "Harmonizing data: 100%|████████████████████████| 22/22 [00:00<00:00, 117.90it/s]\n"
     ]
    },
    {
     "name": "stdout",
     "output_type": "stream",
     "text": [
      "> Reading LD matrix...\n",
      "> Reading annotation file...\n",
      "> Reading summary statistics file...\n"
     ]
    },
    {
     "name": "stderr",
     "output_type": "stream",
     "text": [
      "Harmonizing data: 100%|████████████████████████| 22/22 [00:00<00:00, 114.55it/s]\n"
     ]
    },
    {
     "name": "stdout",
     "output_type": "stream",
     "text": [
      "> Reading LD matrix...\n",
      "> Reading annotation file...\n",
      "> Reading summary statistics file...\n"
     ]
    },
    {
     "name": "stderr",
     "output_type": "stream",
     "text": [
      "Harmonizing data: 100%|████████████████████████| 22/22 [00:00<00:00, 121.07it/s]\n"
     ]
    }
   ],
   "source": [
    "data_21_f1_train = mgp.GWADataLoader(ld_store_files=\"../data/ld/chr_21\", \n",
    "                          sumstats_files=\"../data/sumstats/height/training/height_fold_1.sumstats.gz\", \n",
    "                          annotation_files=\"../data/annotations/baselineLD.21.annot\", \n",
    "                          annotation_format=\"ldsc\",\n",
    "                          sumstats_format=\"plink\")\n",
    "\n",
    "data_21_f1_test = mgp.GWADataLoader(ld_store_files=\"../data/ld/chr_21\", \n",
    "                          sumstats_files=\"../data/sumstats/height/test/height_test_fold_1.csv.gz\", \n",
    "                          annotation_files=\"../data/annotations/baselineLD.21.annot\", \n",
    "                          annotation_format=\"ldsc\",\n",
    "                          sumstats_format=\"magenpy\")\n",
    "\n",
    "data_21_f2_train = mgp.GWADataLoader(ld_store_files=\"../data/ld/chr_21\", \n",
    "                          sumstats_files=\"../data/sumstats/height/training/height_fold_2.sumstats.gz\", \n",
    "                          annotation_files=\"../data/annotations/baselineLD.21.annot\", \n",
    "                          annotation_format=\"ldsc\",\n",
    "                          sumstats_format=\"plink\")\n",
    "\n",
    "data_21_f2_test = mgp.GWADataLoader(ld_store_files=\"../data/ld/chr_21\", \n",
    "                          sumstats_files=\"../data/sumstats/height/test/height_test_fold_2.csv.gz\", \n",
    "                          annotation_files=\"../data/annotations/baselineLD.21.annot\", \n",
    "                          annotation_format=\"ldsc\",\n",
    "                          sumstats_format=\"magenpy\")\n",
    "data_21_f3_train = mgp.GWADataLoader(ld_store_files=\"../data/ld/chr_21\", \n",
    "                          sumstats_files=\"../data/sumstats/height/training/height_fold_3.sumstats.gz\", \n",
    "                          annotation_files=\"../data/annotations/baselineLD.21.annot\", \n",
    "                          annotation_format=\"ldsc\",\n",
    "                          sumstats_format=\"plink\")\n",
    "\n",
    "data_21_f3_test = mgp.GWADataLoader(ld_store_files=\"../data/ld/chr_21\", \n",
    "                          sumstats_files=\"../data/sumstats/height/test/height_test_fold_3.csv.gz\", \n",
    "                          annotation_files=\"../data/annotations/baselineLD.21.annot\", \n",
    "                          annotation_format=\"ldsc\",\n",
    "                          sumstats_format=\"magenpy\")\n",
    "\n",
    "data_21_f4_train = mgp.GWADataLoader(ld_store_files=\"../data/ld/chr_21\", \n",
    "                          sumstats_files=\"../data/sumstats/height/training/height_fold_4.sumstats.gz\", \n",
    "                          annotation_files=\"../data/annotations/baselineLD.21.annot\", \n",
    "                          annotation_format=\"ldsc\",\n",
    "                          sumstats_format=\"plink\")\n",
    "\n",
    "data_21_f4_test = mgp.GWADataLoader(ld_store_files=\"../data/ld/chr_21\", \n",
    "                          sumstats_files=\"../data/sumstats/height/test/height_test_fold_4.csv.gz\", \n",
    "                          annotation_files=\"../data/annotations/baselineLD.21.annot\", \n",
    "                          annotation_format=\"ldsc\",\n",
    "                          sumstats_format=\"magenpy\")\n",
    "\n",
    "\n",
    "\n",
    "data_21_f5_train = mgp.GWADataLoader(ld_store_files=\"../data/ld/chr_21\", \n",
    "                          sumstats_files=\"../data/sumstats/height/training/height_fold_5.sumstats.gz\", \n",
    "                          annotation_files=\"../data/annotations/baselineLD.21.annot\", \n",
    "                          annotation_format=\"ldsc\",\n",
    "                          sumstats_format=\"plink\")\n",
    "\n",
    "data_21_f5_test = mgp.GWADataLoader(ld_store_files=\"../data/ld/chr_21\", \n",
    "                          sumstats_files=\"../data/sumstats/height/test/height_test_fold_5.csv.gz\", \n",
    "                          annotation_files=\"../data/annotations/baselineLD.21.annot\", \n",
    "                          annotation_format=\"ldsc\",\n",
    "                          sumstats_format=\"magenpy\")\n"
   ]
  },
  {
   "cell_type": "markdown",
   "id": "643ab4dc",
   "metadata": {},
   "source": [
    "## Loading Data for Chromosomes 22"
   ]
  },
  {
   "cell_type": "code",
   "execution_count": 3,
   "id": "49f83b30",
   "metadata": {},
   "outputs": [
    {
     "name": "stdout",
     "output_type": "stream",
     "text": [
      "> Reading LD matrix...\n",
      "> Reading annotation file...\n",
      "> Reading summary statistics file...\n"
     ]
    },
    {
     "name": "stderr",
     "output_type": "stream",
     "text": [
      "Harmonizing data: 100%|████████████████████████| 22/22 [00:00<00:00, 100.55it/s]\n"
     ]
    },
    {
     "name": "stdout",
     "output_type": "stream",
     "text": [
      "> Reading LD matrix...\n",
      "> Reading annotation file...\n",
      "> Reading summary statistics file...\n"
     ]
    },
    {
     "name": "stderr",
     "output_type": "stream",
     "text": [
      "Harmonizing data: 100%|████████████████████████| 22/22 [00:00<00:00, 113.64it/s]\n"
     ]
    },
    {
     "name": "stdout",
     "output_type": "stream",
     "text": [
      "> Reading LD matrix...\n",
      "> Reading annotation file...\n",
      "> Reading summary statistics file...\n"
     ]
    },
    {
     "name": "stderr",
     "output_type": "stream",
     "text": [
      "Harmonizing data: 100%|████████████████████████| 22/22 [00:00<00:00, 111.88it/s]\n"
     ]
    },
    {
     "name": "stdout",
     "output_type": "stream",
     "text": [
      "> Reading LD matrix...\n",
      "> Reading annotation file...\n",
      "> Reading summary statistics file...\n"
     ]
    },
    {
     "name": "stderr",
     "output_type": "stream",
     "text": [
      "Harmonizing data: 100%|████████████████████████| 22/22 [00:00<00:00, 110.73it/s]\n"
     ]
    },
    {
     "name": "stdout",
     "output_type": "stream",
     "text": [
      "> Reading LD matrix...\n",
      "> Reading annotation file...\n",
      "> Reading summary statistics file...\n"
     ]
    },
    {
     "name": "stderr",
     "output_type": "stream",
     "text": [
      "Harmonizing data: 100%|████████████████████████| 22/22 [00:00<00:00, 110.35it/s]\n"
     ]
    },
    {
     "name": "stdout",
     "output_type": "stream",
     "text": [
      "> Reading LD matrix...\n",
      "> Reading annotation file...\n",
      "> Reading summary statistics file...\n"
     ]
    },
    {
     "name": "stderr",
     "output_type": "stream",
     "text": [
      "Harmonizing data: 100%|████████████████████████| 22/22 [00:00<00:00, 116.85it/s]\n"
     ]
    },
    {
     "name": "stdout",
     "output_type": "stream",
     "text": [
      "> Reading LD matrix...\n",
      "> Reading annotation file...\n",
      "> Reading summary statistics file...\n"
     ]
    },
    {
     "name": "stderr",
     "output_type": "stream",
     "text": [
      "Harmonizing data: 100%|████████████████████████| 22/22 [00:00<00:00, 114.11it/s]\n"
     ]
    },
    {
     "name": "stdout",
     "output_type": "stream",
     "text": [
      "> Reading LD matrix...\n",
      "> Reading annotation file...\n",
      "> Reading summary statistics file...\n"
     ]
    },
    {
     "name": "stderr",
     "output_type": "stream",
     "text": [
      "Harmonizing data: 100%|█████████████████████████| 22/22 [00:00<00:00, 93.61it/s]\n"
     ]
    },
    {
     "name": "stdout",
     "output_type": "stream",
     "text": [
      "> Reading LD matrix...\n",
      "> Reading annotation file...\n",
      "> Reading summary statistics file...\n"
     ]
    },
    {
     "name": "stderr",
     "output_type": "stream",
     "text": [
      "Harmonizing data: 100%|████████████████████████| 22/22 [00:00<00:00, 108.70it/s]\n"
     ]
    },
    {
     "name": "stdout",
     "output_type": "stream",
     "text": [
      "> Reading LD matrix...\n",
      "> Reading annotation file...\n",
      "> Reading summary statistics file...\n"
     ]
    },
    {
     "name": "stderr",
     "output_type": "stream",
     "text": [
      "Harmonizing data: 100%|████████████████████████| 22/22 [00:00<00:00, 105.49it/s]\n"
     ]
    }
   ],
   "source": [
    "data_22_f1_train = mgp.GWADataLoader(ld_store_files=\"../data/ld/chr_22\", \n",
    "                          sumstats_files=\"../data/sumstats/height/training/height_fold_1.sumstats.gz\", \n",
    "                          annotation_files=\"../data/annotations/baselineLD.22.annot\", \n",
    "                          annotation_format=\"ldsc\",\n",
    "                          sumstats_format=\"plink\")\n",
    "\n",
    "data_22_f1_test = mgp.GWADataLoader(ld_store_files=\"../data/ld/chr_22\", \n",
    "                          sumstats_files=\"../data/sumstats/height/test/height_test_fold_1.csv.gz\", \n",
    "                          annotation_files=\"../data/annotations/baselineLD.22.annot\", \n",
    "                          annotation_format=\"ldsc\",\n",
    "                          sumstats_format=\"magenpy\")\n",
    "\n",
    "data_22_f2_train = mgp.GWADataLoader(ld_store_files=\"../data/ld/chr_22\", \n",
    "                          sumstats_files=\"../data/sumstats/height/training/height_fold_2.sumstats.gz\", \n",
    "                          annotation_files=\"../data/annotations/baselineLD.22.annot\", \n",
    "                          annotation_format=\"ldsc\",\n",
    "                          sumstats_format=\"plink\")\n",
    "\n",
    "data_22_f2_test = mgp.GWADataLoader(ld_store_files=\"../data/ld/chr_22\", \n",
    "                          sumstats_files=\"../data/sumstats/height/test/height_test_fold_2.csv.gz\", \n",
    "                          annotation_files=\"../data/annotations/baselineLD.22.annot\", \n",
    "                          annotation_format=\"ldsc\",\n",
    "                          sumstats_format=\"magenpy\")\n",
    "data_22_f3_train = mgp.GWADataLoader(ld_store_files=\"../data/ld/chr_22\", \n",
    "                          sumstats_files=\"../data/sumstats/height/training/height_fold_3.sumstats.gz\", \n",
    "                          annotation_files=\"../data/annotations/baselineLD.22.annot\", \n",
    "                          annotation_format=\"ldsc\",\n",
    "                          sumstats_format=\"plink\")\n",
    "\n",
    "data_22_f3_test = mgp.GWADataLoader(ld_store_files=\"../data/ld/chr_22\", \n",
    "                          sumstats_files=\"../data/sumstats/height/test/height_test_fold_3.csv.gz\", \n",
    "                          annotation_files=\"../data/annotations/baselineLD.22.annot\", \n",
    "                          annotation_format=\"ldsc\",\n",
    "                          sumstats_format=\"magenpy\")\n",
    "\n",
    "data_22_f4_train = mgp.GWADataLoader(ld_store_files=\"../data/ld/chr_22\", \n",
    "                          sumstats_files=\"../data/sumstats/height/training/height_fold_4.sumstats.gz\", \n",
    "                          annotation_files=\"../data/annotations/baselineLD.22.annot\", \n",
    "                          annotation_format=\"ldsc\",\n",
    "                          sumstats_format=\"plink\")\n",
    "\n",
    "data_22_f4_test = mgp.GWADataLoader(ld_store_files=\"../data/ld/chr_22\", \n",
    "                          sumstats_files=\"../data/sumstats/height/test/height_test_fold_4.csv.gz\", \n",
    "                          annotation_files=\"../data/annotations/baselineLD.22.annot\", \n",
    "                          annotation_format=\"ldsc\",\n",
    "                          sumstats_format=\"magenpy\")\n",
    "\n",
    "data_22_f5_train = mgp.GWADataLoader(ld_store_files=\"../data/ld/chr_22\", \n",
    "                          sumstats_files=\"../data/sumstats/height/training/height_fold_5.sumstats.gz\", \n",
    "                          annotation_files=\"../data/annotations/baselineLD.22.annot\", \n",
    "                          annotation_format=\"ldsc\",\n",
    "                          sumstats_format=\"plink\")\n",
    "\n",
    "data_22_f5_test = mgp.GWADataLoader(ld_store_files=\"../data/ld/chr_22\", \n",
    "                          sumstats_files=\"../data/sumstats/height/test/height_test_fold_5.csv.gz\", \n",
    "                          annotation_files=\"../data/annotations/baselineLD.22.annot\", \n",
    "                          annotation_format=\"ldsc\",\n",
    "                          sumstats_format=\"magenpy\")"
   ]
  },
  {
   "cell_type": "markdown",
   "id": "a0360aa8",
   "metadata": {},
   "source": [
    "## Methods to Initialize values"
   ]
  },
  {
   "cell_type": "code",
   "execution_count": 4,
   "id": "39059dfd",
   "metadata": {},
   "outputs": [],
   "source": [
    "def get_weight_array(main_data, num):\n",
    "    binary_annot = main_data.annotation[num].binary_annotations\n",
    "    weight = []\n",
    "    for k in range(len(binary_annot)): \n",
    "        weight.append(np.random.normal(0, 0.001))\n",
    "    weight_array = np.array(weight, dtype=np.double)\n",
    "    return weight_array\n",
    "\n",
    "def get_tau_k_array(main_data, num):\n",
    "    binary_annot = main_data.annotation[num].binary_annotations\n",
    "    initial_tau_val = (len(binary_annot)) / 0.01\n",
    "    tau_k = []\n",
    "    for k in range(len(binary_annot)): \n",
    "        tau_k.append(initial_tau_val)\n",
    "    tau_k_array = np.array(tau_k, dtype=np.double)\n",
    "    return tau_k_array\n",
    "\n",
    "\n",
    "def get_pi_array(main_data, annot_mat, weight_array):\n",
    "    rows, cols = annot_mat.shape\n",
    "    pi = []\n",
    "    for snp_j in range(main_data.n_snps):\n",
    "        sum_deno = 0\n",
    "        for k in range(cols):\n",
    "            if annot_mat[snp_j][k] == 1:\n",
    "                sum_deno = sum_deno + weight_array[k]\n",
    "        pi_val = 1 / (1 + math.exp(-sum_deno))\n",
    "        pi.append(pi_val)\n",
    "    pi_array = np.array(pi, dtype=np.double)\n",
    "    return pi_array\n",
    "\n",
    "\n",
    "def get_gamma_star_array(main_data):\n",
    "    gamma_star = []\n",
    "    for snp_j in range(main_data.n_snps):\n",
    "        gamma_star.append(0.01)\n",
    "    gamma_star_array = np.array(gamma_star, dtype=np.double)\n",
    "    return gamma_star_array\n",
    "\n",
    "def get_mu_star_beta_array(main_data):\n",
    "    mu_star_beta = []\n",
    "    for snp_j in range(main_data.n_snps):\n",
    "        mu_star_beta.append(0)\n",
    "    mu_star_beta_array = np.array(mu_star_beta, dtype=np.double)\n",
    "    return mu_star_beta_array\n",
    "\n",
    "def get_tau_star_beta_array(main_data):\n",
    "    tau_star_beta = []\n",
    "    for snp_j in range(main_data.n_snps):\n",
    "        tau_star_beta.append(1)\n",
    "    tau_star_beta_array = np.array(tau_star_beta, dtype=np.double)\n",
    "    return tau_star_beta_array\n",
    "\n",
    "def get_tau_beta_array(main_data, annot_mat, tau_k_array):\n",
    "    rows, cols = annot_mat.shape\n",
    "    tau_beta = []\n",
    "    for snp_j in range(main_data.n_snps):\n",
    "        sum_tau_beta = 0\n",
    "        for k in range(cols):\n",
    "            if annot_mat[snp_j][k] == 1:\n",
    "                sum_tau_beta = sum_tau_beta + tau_k_array[k]      \n",
    "        tau_beta.append(sum_tau_beta)\n",
    "    tau_beta_array = np.array(tau_beta, dtype=np.double)\n",
    "    return tau_beta_array"
   ]
  },
  {
   "cell_type": "markdown",
   "id": "e73ae2e7",
   "metadata": {},
   "source": [
    "## E-Step"
   ]
  },
  {
   "cell_type": "code",
   "execution_count": 5,
   "id": "8114d1ac",
   "metadata": {},
   "outputs": [],
   "source": [
    "def e_step(N, tau_epsilon, tau_star_beta_array, mu_star_beta_array, gamma_star_array, pi_array, tau_beta_array, LD_mat, beta_mat):\n",
    "    rows, cols = LD_mat.shape\n",
    "    for snp_j in range(rows):\n",
    "        tau_star_beta_j = cal_tau_star_beta_j(N, snp_j, tau_epsilon, tau_beta_array, LD_mat)\n",
    "        mu_star_beta_j = cal_mu_star_beta_j(N, snp_j, tau_epsilon, tau_star_beta_j, gamma_star_array, mu_star_beta_array, LD_mat, beta_mat)\n",
    "        u_j = cal_u_j(snp_j, tau_star_beta_j, mu_star_beta_j, pi_array, tau_beta_array)\n",
    "        gamma_star_j = cal_gamma_star_j(u_j) \n",
    "        \n",
    "        if gamma_star_j < 0.01:\n",
    "            gamma_star_j = 0.01\n",
    "        if gamma_star_j > 0.99:\n",
    "            gamma_star_j = 0.99\n",
    "            \n",
    "        tau_star_beta_array[snp_j] = tau_star_beta_j\n",
    "        mu_star_beta_array[snp_j] = mu_star_beta_j\n",
    "        gamma_star_array[snp_j] = gamma_star_j\n",
    "    return tau_star_beta_array, mu_star_beta_array, gamma_star_array\n",
    "        \n",
    "def cal_tau_star_beta_j(N, snp_j, tau_epsilon, tau_beta_array, LD_mat):\n",
    "    xx = LD_mat[snp_j][snp_j] * N\n",
    "    tau_beta = tau_beta_array[snp_j]\n",
    "    result = (xx * tau_epsilon) + tau_beta\n",
    "    return result\n",
    "\n",
    "def cal_mu_star_beta_j(N, snp_j, tau_epsilon, tau_star_beta_j, gamma_star_array, mu_star_beta_array, LD_mat, beta_mat):\n",
    "    a = N * (tau_epsilon / tau_star_beta_j)\n",
    "    b = (beta_mat[snp_j] * N) / N\n",
    "    c = cal_sum_for_i(snp_j, gamma_star_array, mu_star_beta_array, LD_mat)\n",
    "    result = a * (b - c)\n",
    "    return result\n",
    "\n",
    "def cal_sum_for_i(snp_j, gamma_star_array, mu_star_beta_array, LD_mat):\n",
    "    val = np.multiply(gamma_star_array, mu_star_beta_array)\n",
    "    val = np.multiply(val, LD_mat[snp_j].tolist())\n",
    "    val = np.delete(val, snp_j)\n",
    "    sum_i = np.sum(val)\n",
    "    return sum_i\n",
    "\n",
    "def cal_u_j(snp_j, tau_star_beta_j, mu_star_beta_j, pi_array, tau_beta_array):\n",
    "    a = math.log((pi_array[snp_j]/(1-pi_array[snp_j])))\n",
    "    b = (0.5) *  math.log((tau_beta_array[snp_j]/tau_star_beta_j))\n",
    "    c = (tau_star_beta_j / 2) * (mu_star_beta_j ** 2)\n",
    "    result = a + b + c\n",
    "    return result\n",
    "    \n",
    "def cal_gamma_star_j(u_j):\n",
    "    return 1/(1 + math.exp(-u_j))"
   ]
  },
  {
   "cell_type": "markdown",
   "id": "ae1fa586",
   "metadata": {},
   "source": [
    "## M-Step"
   ]
  },
  {
   "cell_type": "code",
   "execution_count": 6,
   "id": "c1db5df5",
   "metadata": {},
   "outputs": [],
   "source": [
    "def m_step(learning_rate, tau_star_beta_array, gamma_star_array, mu_star_beta_array, tau_k_array, weight_array, pi_array, annot_mat):\n",
    "    tau_k_array = update_tau_k(tau_star_beta_array, gamma_star_array, mu_star_beta_array, tau_k_array, annot_mat)\n",
    "    weight_array = update_weight(learning_rate, gamma_star_array, weight_array, pi_array, annot_mat)\n",
    "    return tau_k_array, weight_array\n",
    "        \n",
    "        \n",
    "def update_tau_k(tau_star_beta_array, gamma_star_array, mu_star_beta_array, tau_k_array, annot_mat):\n",
    "    rows, cols = annot_mat.shape\n",
    "    for k in range(cols):\n",
    "        nume_sum = 0\n",
    "        deno_sum = 0\n",
    "        tau_k = 0\n",
    "        for j in range(rows):\n",
    "            if annot_mat[j][k] == 1:\n",
    "                nume_sum += (gamma_star_array[j] * ((mu_star_beta_array[j]**2) + (1/tau_star_beta_array[j])))\n",
    "                deno_sum += gamma_star_array[j]\n",
    "        tau_k = deno_sum / nume_sum\n",
    "        tau_k_array[k] = tau_k\n",
    "    return tau_k_array\n",
    "        \n",
    "    \n",
    "def update_weight(learning_rate, gamma_star_array, weight_array, pi_array, annot_mat):\n",
    "    diff = gamma_star_array - pi_array\n",
    "    gradiant = np.matmul(diff, annot_mat)\n",
    "    weight_array = weight_array - (learning_rate * gradiant)\n",
    "    return weight_array"
   ]
  },
  {
   "cell_type": "markdown",
   "id": "8a4333d8",
   "metadata": {},
   "source": [
    "## Update parameters"
   ]
  },
  {
   "cell_type": "code",
   "execution_count": 7,
   "id": "adee8826",
   "metadata": {},
   "outputs": [],
   "source": [
    "def update_para(tau_k_array, tau_beta_array, weight_array, pi_array, annot_mat):\n",
    "    rows, cols = annot_mat.shape\n",
    "    for snp_j in range(rows):\n",
    "        sum_tau_beta = 0\n",
    "        sum_deno = 0\n",
    "        for k in range(len(tau_k_array)):\n",
    "            if annot_mat[snp_j][k] == 1:\n",
    "                sum_tau_beta = sum_tau_beta + tau_k_array[k]\n",
    "                sum_deno = sum_deno + weight_array[k]\n",
    "        pi_val = 1 / (1 + math.exp(-sum_deno))\n",
    "        tau_beta_array[snp_j] = sum_tau_beta\n",
    "        pi_array[snp_j] = pi_val\n",
    "    return tau_beta_array, pi_array"
   ]
  },
  {
   "cell_type": "markdown",
   "id": "2bd7176a",
   "metadata": {},
   "source": [
    "## marginal beta intersect and R^2 Calculation"
   ]
  },
  {
   "cell_type": "code",
   "execution_count": 8,
   "id": "cbf3b17c",
   "metadata": {},
   "outputs": [],
   "source": [
    "def intersect_dataset(train_sumstat, test_sumstat):\n",
    "    train_dict = {\"SNP\": train_sumstat.snps, \"A1\": train_sumstat.a1, \"A2\": train_sumstat.a2}\n",
    "    train_df = pd.DataFrame(data=train_dict)\n",
    "    test_sumstat.match(train_df)\n",
    "    return test_sumstat\n",
    "\n",
    "def cal_r_square(test_marginal_beta, gamma_star_array, mu_star_beta_array, LD_mat):\n",
    "    beta_hat = np.multiply(gamma_star_array, mu_star_beta_array)\n",
    "    a = np.matmul(test_marginal_beta, beta_hat)\n",
    "    b = np.matmul(LD_mat, beta_hat)\n",
    "    b = np.matmul(np.transpose(beta_hat), b)\n",
    "    ssres = 1 - (2 * a) + b\n",
    "    r2 = 1 - ssres\n",
    "    return r2\n",
    "\n",
    "def cal_r2(train_main_data, test_main_data, num, gamma_star_array, mu_star_beta_array, LD_mat):\n",
    "    train_sumstat = train_main_data.sumstats_table[num]\n",
    "    test_sumstat = test_main_data.sumstats_table[num]\n",
    "    test_sumstat = intersect_dataset(train_sumstat, test_sumstat)\n",
    "    test_marginal_beta = test_sumstat.standardized_marginal_beta\n",
    "    r2 = cal_r_square(test_marginal_beta, gamma_star_array, mu_star_beta_array, LD_mat)\n",
    "    return r2\n",
    "    "
   ]
  },
  {
   "cell_type": "markdown",
   "id": "b7f2a01e",
   "metadata": {},
   "source": [
    "## Run method"
   ]
  },
  {
   "cell_type": "code",
   "execution_count": 1,
   "id": "5360eaaf",
   "metadata": {},
   "outputs": [],
   "source": [
    "def run(main_data, num, iteration = 10):\n",
    "    # Hyper-parameters\n",
    "    tau_epsilon = 1.0\n",
    "    learning_rate = 0.001\n",
    "    N = main_data.n\n",
    "    \n",
    "    # LD matrix\n",
    "    ld_mat_array = main_data.ld[num].to_csr_matrix()\n",
    "    LD_mat = pd.DataFrame(ld_mat_array.todense())\n",
    "    \n",
    "    # Annotation matrix\n",
    "    binary_annot = main_data.annotation[num].binary_annotations\n",
    "    annot_mat = main_data.annotation[num].table[binary_annot].values\n",
    "    \n",
    "    # beta_marginal matrix\n",
    "    beta_mat = main_data.sumstats_table[num].standardized_marginal_beta\n",
    "    \n",
    "    # Initialize Values\n",
    "    weight_array = get_weight_array(main_data, num)\n",
    "    tau_k_array = get_tau_k_array(main_data, num)\n",
    "    pi_array = get_pi_array(main_data, annot_mat, weight_array)\n",
    "    gamma_star_array = get_gamma_star_array(main_data)\n",
    "    mu_star_beta_array = get_mu_star_beta_array(main_data)\n",
    "    tau_star_beta_array = get_tau_star_beta_array(main_data)\n",
    "    tau_beta_array = get_tau_beta_array(main_data, annot_mat, tau_k_array)\n",
    "    \n",
    "    elbo_array = []\n",
    "    \n",
    "    # Iterations\n",
    "    for n_iter in range(iteration):\n",
    "        print(\"Iteration:\" + str(n_iter))    \n",
    "        tau_star_beta_array, mu_star_beta_array, gamma_star_array = e_step(N, tau_epsilon, tau_star_beta_array, mu_star_beta_array, gamma_star_array, pi_array, tau_beta_array, LD_mat, beta_mat)\n",
    "        tau_k_array, weight_array = m_step(learning_rate, tau_star_beta_array, gamma_star_array, mu_star_beta_array, tau_k_array, weight_array, pi_array, annot_mat)\n",
    "        tau_beta_array, pi_array = update_para(tau_k_array, tau_beta_array, weight_array, pi_array, annot_mat)\n",
    "        #elbo = get_elbo(N, tau_epsilon, tau_beta_array, gamma_star_array, mu_star_beta_array, tau_star_beta_array, pi_array, LD_mat, beta_mat)\n",
    "        #elbo_array.append(elbo)\n",
    "    return gamma_star_array, mu_star_beta_array, LD_mat\n"
   ]
  },
  {
   "cell_type": "markdown",
   "id": "9d8ababd",
   "metadata": {},
   "source": [
    "## Running with ch21"
   ]
  },
  {
   "cell_type": "code",
   "execution_count": 11,
   "id": "864b7045",
   "metadata": {},
   "outputs": [
    {
     "name": "stdout",
     "output_type": "stream",
     "text": [
      "Iteration:0\n",
      "Iteration:1\n",
      "Iteration:2\n",
      "Iteration:3\n",
      "Iteration:4\n",
      "Iteration:5\n",
      "Iteration:6\n",
      "Iteration:7\n",
      "Iteration:8\n",
      "Iteration:9\n",
      "Iteration:0\n",
      "Iteration:1\n",
      "Iteration:2\n",
      "Iteration:3\n",
      "Iteration:4\n",
      "Iteration:5\n",
      "Iteration:6\n",
      "Iteration:7\n",
      "Iteration:8\n",
      "Iteration:9\n",
      "Iteration:0\n",
      "Iteration:1\n",
      "Iteration:2\n",
      "Iteration:3\n",
      "Iteration:4\n",
      "Iteration:5\n",
      "Iteration:6\n",
      "Iteration:7\n",
      "Iteration:8\n",
      "Iteration:9\n",
      "Iteration:0\n",
      "Iteration:1\n",
      "Iteration:2\n",
      "Iteration:3\n",
      "Iteration:4\n",
      "Iteration:5\n",
      "Iteration:6\n",
      "Iteration:7\n",
      "Iteration:8\n",
      "Iteration:9\n",
      "Iteration:0\n",
      "Iteration:1\n",
      "Iteration:2\n",
      "Iteration:3\n",
      "Iteration:4\n",
      "Iteration:5\n",
      "Iteration:6\n",
      "Iteration:7\n",
      "Iteration:8\n",
      "Iteration:9\n"
     ]
    }
   ],
   "source": [
    "gamma_star_21_f1, mu_star_beta_21_f1, LD_mat_21_f1 = run(data_21_f1_train, 21, 10)\n",
    "gamma_star_21_f2, mu_star_beta_21_f2, LD_mat_21_f2 = run(data_21_f2_train, 21, 10)\n",
    "gamma_star_21_f3, mu_star_beta_21_f3, LD_mat_21_f3 = run(data_21_f3_train, 21, 10)\n",
    "gamma_star_21_f4, mu_star_beta_21_f4, LD_mat_21_f4 = run(data_21_f4_train, 21, 10)\n",
    "gamma_star_21_f5, mu_star_beta_21_f5, LD_mat_21_f5 = run(data_21_f5_train, 21, 10)"
   ]
  },
  {
   "cell_type": "markdown",
   "id": "fd2dfd2f",
   "metadata": {},
   "source": [
    "## Calculating R^2"
   ]
  },
  {
   "cell_type": "code",
   "execution_count": 12,
   "id": "698c7d36",
   "metadata": {},
   "outputs": [],
   "source": [
    "r2_21_f1 = cal_r2(data_21_f1_train, data_21_f1_test, 21, gamma_star_21_f1, mu_star_beta_21_f1, LD_mat_21_f1)\n",
    "r2_21_f2 = cal_r2(data_21_f2_train, data_21_f2_test, 21, gamma_star_21_f2, mu_star_beta_21_f2, LD_mat_21_f2)\n",
    "r2_21_f3 = cal_r2(data_21_f3_train, data_21_f3_test, 21, gamma_star_21_f3, mu_star_beta_21_f3, LD_mat_21_f3)\n",
    "r2_21_f4 = cal_r2(data_21_f4_train, data_21_f4_test, 21, gamma_star_21_f4, mu_star_beta_21_f4, LD_mat_21_f4)\n",
    "r2_21_f5 = cal_r2(data_21_f5_train, data_21_f5_test, 21, gamma_star_21_f5, mu_star_beta_21_f5, LD_mat_21_f5)"
   ]
  },
  {
   "cell_type": "markdown",
   "id": "529e9760",
   "metadata": {},
   "source": [
    "## Running with ch22"
   ]
  },
  {
   "cell_type": "code",
   "execution_count": 13,
   "id": "902dd8f8",
   "metadata": {},
   "outputs": [
    {
     "name": "stdout",
     "output_type": "stream",
     "text": [
      "Iteration:0\n",
      "Iteration:1\n",
      "Iteration:2\n",
      "Iteration:3\n",
      "Iteration:4\n",
      "Iteration:5\n",
      "Iteration:6\n",
      "Iteration:7\n",
      "Iteration:8\n",
      "Iteration:9\n",
      "Iteration:0\n",
      "Iteration:1\n",
      "Iteration:2\n",
      "Iteration:3\n",
      "Iteration:4\n",
      "Iteration:5\n",
      "Iteration:6\n",
      "Iteration:7\n",
      "Iteration:8\n",
      "Iteration:9\n",
      "Iteration:0\n",
      "Iteration:1\n",
      "Iteration:2\n",
      "Iteration:3\n",
      "Iteration:4\n",
      "Iteration:5\n",
      "Iteration:6\n",
      "Iteration:7\n",
      "Iteration:8\n",
      "Iteration:9\n",
      "Iteration:0\n",
      "Iteration:1\n",
      "Iteration:2\n",
      "Iteration:3\n",
      "Iteration:4\n",
      "Iteration:5\n",
      "Iteration:6\n",
      "Iteration:7\n",
      "Iteration:8\n",
      "Iteration:9\n",
      "Iteration:0\n",
      "Iteration:1\n",
      "Iteration:2\n",
      "Iteration:3\n",
      "Iteration:4\n",
      "Iteration:5\n",
      "Iteration:6\n",
      "Iteration:7\n",
      "Iteration:8\n",
      "Iteration:9\n"
     ]
    }
   ],
   "source": [
    "gamma_star_22_f1, mu_star_beta_22_f1, LD_mat_22_f1 = run(data_22_f1_train, 22, 10)\n",
    "gamma_star_22_f2, mu_star_beta_22_f2, LD_mat_22_f2 = run(data_22_f2_train, 22, 10)\n",
    "gamma_star_22_f3, mu_star_beta_22_f3, LD_mat_22_f3 = run(data_22_f3_train, 22, 10)\n",
    "gamma_star_22_f4, mu_star_beta_22_f4, LD_mat_22_f4 = run(data_22_f4_train, 22, 10)\n",
    "gamma_star_22_f5, mu_star_beta_22_f5, LD_mat_22_f5 = run(data_22_f5_train, 22, 10)"
   ]
  },
  {
   "cell_type": "markdown",
   "id": "48215a3e",
   "metadata": {},
   "source": [
    "## Calculating R^2"
   ]
  },
  {
   "cell_type": "code",
   "execution_count": 14,
   "id": "9276aa89",
   "metadata": {},
   "outputs": [],
   "source": [
    "r2_22_f1 = cal_r2(data_22_f1_train, data_22_f1_test, 22, gamma_star_22_f1, mu_star_beta_22_f1, LD_mat_22_f1)\n",
    "r2_22_f2 = cal_r2(data_22_f2_train, data_22_f2_test, 22, gamma_star_22_f2, mu_star_beta_22_f2, LD_mat_22_f2)\n",
    "r2_22_f3 = cal_r2(data_22_f3_train, data_22_f3_test, 22, gamma_star_22_f3, mu_star_beta_22_f3, LD_mat_22_f3)\n",
    "r2_22_f4 = cal_r2(data_22_f4_train, data_22_f4_test, 22, gamma_star_22_f4, mu_star_beta_22_f4, LD_mat_22_f4)\n",
    "r2_22_f5 = cal_r2(data_22_f5_train, data_22_f5_test, 22, gamma_star_22_f5, mu_star_beta_22_f5, LD_mat_22_f5)"
   ]
  },
  {
   "cell_type": "markdown",
   "id": "4c2cdd3c",
   "metadata": {},
   "source": [
    "## Plotting Graph"
   ]
  },
  {
   "cell_type": "code",
   "execution_count": 24,
   "id": "349f8f14",
   "metadata": {},
   "outputs": [
    {
     "data": {
      "image/png": "[encoded data removed]",
      "text/plain": [
       "<Figure size 1800x1200 with 1 Axes>"
      ]
     },
     "metadata": {
      "needs_background": "light"
     },
     "output_type": "display_data"
    },
    {
     "data": {
      "image/png": "[encoded data removed]",
      "text/plain": [
       "<Figure size 1800x1200 with 1 Axes>"
      ]
     },
     "metadata": {
      "needs_background": "light"
     },
     "output_type": "display_data"
    },
    {
     "data": {
      "image/png": "[encoded data removed]",
      "text/plain": [
       "<Figure size 1800x1200 with 1 Axes>"
      ]
     },
     "metadata": {
      "needs_background": "light"
     },
     "output_type": "display_data"
    }
   ],
   "source": [
    "x = []\n",
    "x.append(\"Fold1\")\n",
    "x.append(\"Fold2\")\n",
    "x.append(\"Fold3\")\n",
    "x.append(\"Fold4\")\n",
    "x.append(\"Fold5\")\n",
    "\n",
    "r21 = []\n",
    "r21.append(r2_21_f1)\n",
    "r21.append(r2_21_f2)\n",
    "r21.append(r2_21_f3)\n",
    "r21.append(r2_21_f4)\n",
    "r21.append(r2_21_f5)\n",
    "\n",
    "r22 = []\n",
    "r22.append(r2_22_f1)\n",
    "r22.append(r2_22_f2)\n",
    "r22.append(r2_22_f3)\n",
    "r22.append(r2_22_f4)\n",
    "r22.append(r2_22_f5)\n",
    "\n",
    "plt.figure(dpi=300)\n",
    "plt.plot(x, r21, 'bo')\n",
    "plt.xlabel(\"Fold\",)\n",
    "plt.ylabel(\"R^2\")\n",
    "plt.title(\"R^2 values for LD ch_21\")\n",
    "plt.savefig(\"r_ch21.png\")\n",
    "\n",
    "\n",
    "plt.figure(dpi=300)\n",
    "plt.plot(x, r22, 'ro')\n",
    "plt.xlabel(\"Fold\",)\n",
    "plt.ylabel(\"R^2\")\n",
    "plt.title(\"R^2 values for LD ch_22\")\n",
    "plt.savefig(\"r_ch22.png\")\n",
    "\n",
    "plt.figure(dpi=300)\n",
    "plt.plot(x, r21, 'bo')\n",
    "plt.plot(x, r22, 'ro')\n",
    "plt.legend(['LD ch_21', 'LD ch_22'])\n",
    "plt.xlabel(\"Fold\",)\n",
    "plt.ylabel(\"R^2\")\n",
    "plt.title(\"R^2 values for LD ch_22\")\n",
    "plt.savefig(\"r.png\")\n"
   ]
  },
  {
   "cell_type": "markdown",
   "id": "26e0be5c",
   "metadata": {},
   "source": [
    "## ELBO "
   ]
  },
  {
   "cell_type": "code",
   "execution_count": 2,
   "id": "f7d48fdd",
   "metadata": {},
   "outputs": [],
   "source": [
    "#elbo = get_elbo(N, tau_epsilon, tau_beta_array, gamma_star_array, mu_star_beta_array, tau_star_beta_array, pi_array, LD_mat, beta_mat)\n",
    "        #elbo_array.append(elbo)\n",
    "\n",
    "\n",
    "# ELBO Calculation\n",
    "def get_elbo(N, tau_epsilon, tau_beta_array, gamma_star_array, mu_star_beta_array, tau_star_beta_array, pi_array, LD_mat, beta_mat):\n",
    "    sum_1 = get_sum_1(N, tau_epsilon, gamma_star_array, mu_star_beta_array, tau_star_beta_array, LD_mat, beta_mat)\n",
    "    sum_2 = get_sum_2(tau_beta_array, gamma_star_array, pi_array, mu_star_beta_array, tau_star_beta_array)\n",
    "    sum_3 = get_sum_3(gamma_star_array, tau_beta_array, pi_array)\n",
    "    sum_4 = get_sum_4(gamma_star_array, pi_array)\n",
    "    sum_5 = get_sum_5(gamma_star_array)\n",
    "    result = sum_1 + sum_2 - sum_3 + sum_4 - sum_5\n",
    "    return result\n",
    "\n",
    "# Methods to calculate individual sums\n",
    "def get_sum_1(N, tau_epsilon, gamma_star_array, mu_star_beta_array, tau_star_beta_array, LD_mat, beta_mat):\n",
    "    v3 = 0\n",
    "    v4 = 0\n",
    "    \n",
    "    v1 = ((N / 2) * math.log(tau_epsilon)) - (tau_epsilon/2) * N\n",
    "    \n",
    "    beta_hat = np.multiply(gamma_star_array, mu_star_beta_array)\n",
    "    v2 = np.matmul(beta_hat, beta_mat)\n",
    "    \n",
    "    for snp_j in range(len(gamma_star_array)-1):       \n",
    "        v3 += (tau_epsilon/2) * gamma_star_array[snp_j] * ((mu_star_beta_array[snp_j]**2) + (1/tau_star_beta_array[snp_j])) * (LD_mat[snp_j][snp_j] * N)\n",
    "        v4 += get_sum_helper(snp_j, gamma_star_array, mu_star_beta_array, LD_mat)  \n",
    "        \n",
    "    \n",
    "    result = v1 + (tau_epsilon * v2) - v3 - (tau_epsilon * v4)\n",
    "    return result\n",
    "    \n",
    "    \n",
    "def get_sum_helper(snp_j, gamma_star_array, mu_star_beta_array, LD_mat):\n",
    "    val_array = np.multiply(gamma_star_array[snp_j+1:], mu_star_beta_array[snp_j+1:])\n",
    "    LD_array = LD_mat[snp_j].tolist()\n",
    "    LD_array = LD_array[snp_j+1:]\n",
    "    val_array = np.multiply(val_array, LD_array)\n",
    "    val = gamma_star_array[snp_j] * mu_star_beta_array[snp_j] * val_array\n",
    "    result = np.sum(val)\n",
    "    return result\n",
    "\n",
    "\n",
    "def get_sum_2(tau_beta_array, gamma_star_array, pi_array, mu_star_beta_array, tau_star_beta_array):\n",
    "    v1 = 0\n",
    "    v2 = 0\n",
    "    for snp_j in range(len(gamma_star_array)):        \n",
    "        v1 = v1 + ((-1/2)*math.log((2*pi_array[snp_j]/tau_beta_array[snp_j])))\n",
    "        v2 = v2 + (tau_beta_array[snp_j]/2) * gamma_star_array[snp_j] * ((mu_star_beta_array[snp_j]**2) + (1/tau_star_beta_array[snp_j]))\n",
    "    result = v1 - v2\n",
    "    return result\n",
    "\n",
    "def get_sum_3(gamma_star_array, tau_beta_array, pi_array):\n",
    "    v1 = 0\n",
    "    v2 = 0\n",
    "    for snp_j in range(len(gamma_star_array)):\n",
    "        v1 = v1 + ((-1/2)*math.log((2*pi_array[snp_j]/tau_beta_array[snp_j])))\n",
    "        v2 = v2 + gamma_star_array[snp_j] * math.log(tau_beta_array[snp_j]) \n",
    "    result = v1 - ((1/2) * v2)\n",
    "    return result\n",
    "\n",
    "def get_sum_4(gamma_star_array, pi_array):\n",
    "    result = 0\n",
    "    for snp_j in range(len(gamma_star_array)):\n",
    "        result = result + (gamma_star_array[snp_j] * math.log(pi_array[snp_j]) + ((1 - gamma_star_array[snp_j]) * math.log(1 - pi_array[snp_j])))\n",
    "    return result\n",
    "\n",
    "def get_sum_5(gamma_star_array):\n",
    "    result = 0\n",
    "    for snp_j in range(len(gamma_star_array)):\n",
    "        gamma_star = gamma_star_array[snp_j]\n",
    "        result = result + (gamma_star * math.log(gamma_star) + ((1 - gamma_star) * math.log(1 - gamma_star)))\n",
    "    return result"
   ]
  },
  {
   "cell_type": "code",
   "execution_count": null,
   "id": "9719c546",
   "metadata": {},
   "outputs": [],
   "source": []
  }
 ],
 "metadata": {
  "kernelspec": {
   "display_name": "Python 3 (ipykernel)",
   "language": "python",
   "name": "python3"
  },
  "language_info": {
   "codemirror_mode": {
    "name": "ipython",
    "version": 3
   },
   "file_extension": ".py",
   "mimetype": "text/x-python",
   "name": "python",
   "nbconvert_exporter": "python",
   "pygments_lexer": "ipython3",
   "version": "3.9.12"
  }
 },
 "nbformat": 4,
 "nbformat_minor": 5
}
